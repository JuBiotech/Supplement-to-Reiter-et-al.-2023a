{
 "cells": [
  {
   "cell_type": "markdown",
   "metadata": {
    "tags": []
   },
   "source": [
    "# Method development\n",
    "\n",
    "This package is used to create organism specific methods for large scale mass spectrometry experiments with Dilute-and-Shoot Flow-Injection-Analysis Tandem Mass Spectrometry (DS-FIA-MS/MS).\n",
    "\n",
    "Main functions:\n",
    "- Method development\n",
    "- Batch creation"
   ]
  },
  {
   "cell_type": "markdown",
   "metadata": {},
   "source": [
    "## Import packages"
   ]
  },
  {
   "cell_type": "code",
   "execution_count": null,
   "metadata": {},
   "outputs": [],
   "source": [
    "%load_ext autoreload\n",
    "%autoreload 2\n",
    "\n",
    "import sys\n",
    "sys.path.append('..')\n",
    "\n",
    "from supplementcode import development"
   ]
  },
  {
   "cell_type": "markdown",
   "metadata": {
    "tags": []
   },
   "source": [
    "## Processing\n",
    "\n",
    "### Set parameter\n",
    "\n",
    "This cell is used for operator input. Provide a path to a user created project folder and a name for the method. Also, provide paths to the mass transition files of inhouse and literature parameters. For pKa data, provide a raw path to the metabolite information file from DSFIApy database. Similarily, provide a path to the complete pathway folder created for organism pathway files. In addition, provide a raw path to the prediction file folder. Additionally, provide the organism identifier (multiple organism IDs possible for multiorganism method) as a list. If special pathways are of interest, provide the KEGG identifier (multiple pathway IDs possible for multipathway method) for organism specific pathway methods.<br><br>While the organism ID list is mandatory, the pathway list is not. Provide an empty pathway list if the whole organism metabolome should be screened. As a convenience function, specify if convoluted mass transitions should be dropped and if so, define the number of convoluted mass transitions to be dropped."
   ]
  },
  {
   "cell_type": "code",
   "execution_count": null,
   "metadata": {},
   "outputs": [],
   "source": [
    "# Set path to a project folder\n",
    "path_project = r'C:\\...\\Projects'\n",
    "# Set name for the method\n",
    "name_method = 'example'\n",
    "# Set path to literature data\n",
    "path_database_literatur = r'C:\\...\\examples\\Database\\Database\\Literature\\literature.xlsx'\n",
    "# Set path to inorganics data\n",
    "path_database_inorganics = r'C:\\...\\examples\\Database\\Database\\Literature\\inorganics.xlsx'\n",
    "# Set path to kegg data with pka\n",
    "path_database_metabolites = r'C:\\...\\examples\\Database\\Database\\Lists\\KEGG_list_pka.xlsx'\n",
    "# Set path to kegg pathways\n",
    "path_database_pathways = r'C:\\...\\examples\\Database\\Database\\Pathways'\n",
    "# Set path to predictions\n",
    "path_database_predictions = r'C:\\...\\examples\\Database\\Database\\Predictions\\SMILES'\n",
    "\n",
    "# List of single or multiple organism by KEGG ID abbreviation\n",
    "organisms = ['cgb']\n",
    "\n",
    "# List of pathways by organism specific pathway IDs; ['eco00290']\n",
    "pathways = []\n",
    "\n",
    "# Exclude compounds from methods with cutoff\n",
    "drop_sumpeaks = False\n",
    "drop_sumpeaks_no = 3"
   ]
  },
  {
   "cell_type": "markdown",
   "metadata": {},
   "source": [
    "### Method development\n",
    "\n",
    "This is the main function of the method development package. It will provide the operator with information files and summary plots. The most important file is the method file, providing multiple-reaction-mode (MRM) packages for analysis. These methods can be copied and pasted into method files. Changes in column naming or parameter order due to software differences might be necessary. At the moment, only AB Sciex or Analyst 1.6.3 batch creation is supported."
   ]
  },
  {
   "cell_type": "code",
   "execution_count": null,
   "metadata": {},
   "outputs": [],
   "source": [
    "dict_methods = development.development(\n",
    "    path_project = path_project, \n",
    "    name_method = name_method,\n",
    "    path_database_literatur = path_database_literatur, \n",
    "    path_database_inorganics = path_database_inorganics, \n",
    "    path_database_predictions = path_database_predictions,\n",
    "    path_database_metabolites = path_database_metabolites, \n",
    "    path_database_pathways = path_database_pathways, \n",
    "    organisms = organisms, \n",
    "    pathways = pathways, \n",
    "    drop_sumpeaks = drop_sumpeaks, \n",
    "    drop_sumpeaks_no = drop_sumpeaks_no\n",
    "    )"
   ]
  },
  {
   "cell_type": "markdown",
   "metadata": {},
   "source": [
    "### Create MS batch\n",
    "\n",
    "The creation of a batch list is automated. First, provide a path to a operator created allocation file. This file defines the positions of sample in a microtiter plate. Additionally, provide a path to the organism specific method file from the development main function. Set a name for the results folder on your instrument computer. If pooled QC samples are provided, provide the bool. Depending on your instrument software, you may provide a plate code for your instrument. \n",
    "\n",
    "The naming convention for samples in the allocation file is as follows:\n",
    "- ClassName_Reactor_Sample_Dilution_Batch\n",
    "- ClassName e.g. YE1\n",
    "- Reactor e.g. 1 (if no difference, all 1)\n",
    "- Sample e.g. S1 (for dependent samples S1, S2, S3...)\n",
    "- Dilution e.g. D1000 (for documentation)\n",
    "- Batch e.g. B1 (B1 for first batch, B2 for second batch)\n",
    "\n",
    "Wells are counted rowwise in consecutive number e.g. A1-A12 -> 1-12, B1-B12 -> 13-24"
   ]
  },
  {
   "cell_type": "code",
   "execution_count": null,
   "metadata": {},
   "outputs": [],
   "source": [
    "# Set path to allocation list\n",
    "path_allocation_batch = r'C:\\...\\examples\\Database\\Development\\Batches\\allocation.xlsx'\n",
    "# Set path to methods\n",
    "path_methods_batch = r'C:\\...\\examples\\Database\\Development\\Projects\\cgb\\methods.xlsx'\n",
    "# Set name for batch folder; e.g. Project1/Example\n",
    "path_batch_folder = r'Project1\\Example' \n",
    "# Quality control?\n",
    "quality_control = True\n",
    "# Plate type; '*96Greiner*' or '*96GreinerV*'\n",
    "plate_code = '*96GreinerV*'"
   ]
  },
  {
   "cell_type": "markdown",
   "metadata": {},
   "source": [
    "The function will provide a new allocation file for the operator, defining the positions of the QC and blanks for analysis. QCs will be placed between every 6th sample. Additionally, the operator will be provided with a batch file. At the moment, only AB Sciex or Analyst 1.6.3 batch creation is supported."
   ]
  },
  {
   "cell_type": "code",
   "execution_count": null,
   "metadata": {},
   "outputs": [],
   "source": [
    "dict_batch = development.development_create_batch(\n",
    "    path_allocation_batch = path_allocation_batch,\n",
    "    path_methods_batch = path_methods_batch, \n",
    "    path_batch_folder = path_batch_folder,\n",
    "    plate_code = plate_code, \n",
    "    quality_control = quality_control\n",
    ")"
   ]
  }
 ],
 "metadata": {
  "kernelspec": {
   "display_name": "Python 3 (ipykernel)",
   "language": "python",
   "name": "python3"
  },
  "language_info": {
   "codemirror_mode": {
    "name": "ipython",
    "version": 3
   },
   "file_extension": ".py",
   "mimetype": "text/x-python",
   "name": "python",
   "nbconvert_exporter": "python",
   "pygments_lexer": "ipython3",
   "version": "3.9.7"
  }
 },
 "nbformat": 4,
 "nbformat_minor": 4
}
