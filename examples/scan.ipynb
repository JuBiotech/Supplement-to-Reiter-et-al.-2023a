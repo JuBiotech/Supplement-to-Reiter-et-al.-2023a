{
 "cells": [
  {
   "cell_type": "markdown",
   "metadata": {},
   "source": [
    "# Scan\n",
    "\n",
    "This package is used to evaluate large scale mass spectrometry experiments with Dilute-and-Shoot Flow-Injection-Analysis Tandem Mass Spectrometry (DS-FIA-MS/MS). The functions provided in this module require data and result tables provided by database and method development.\n",
    "\n",
    "Main functions:\n",
    "- Preprocessing\n",
    "- Univariate analysis\n",
    "- Multivariate analysis\n",
    "- Cluster analysis\n",
    "- Pathway analysis\n",
    "- Network analysis"
   ]
  },
  {
   "cell_type": "markdown",
   "metadata": {},
   "source": [
    "## Import packages"
   ]
  },
  {
   "cell_type": "code",
   "execution_count": null,
   "metadata": {},
   "outputs": [],
   "source": [
    "%load_ext autoreload\n",
    "%autoreload 2\n",
    "\n",
    "import sys\n",
    "sys.path.append('..')\n",
    "\n",
    "from supplementcode import scan"
   ]
  },
  {
   "cell_type": "markdown",
   "metadata": {},
   "source": [
    "## Preprocessing\n",
    "### Set parameter\n",
    "This cell is used for operator input. Provide a raw path to the xlsx. result file from MultiQuant based on a measurement batch acquired with DSFIApy method development. In addition, provide a raw path to the reports.xlsx file created with method development. Set a signal / noise theshold as a preliminary signal filter (e.g. 10) and required technical precision (e.g. 20) for quality control. The workflow can be used iteratively, so if there are specific metabolites identified by the algorithm, provide a list with KEGG compound IDs to highlight these metabolites throughout the evaluation. Typical plotting parameters can be identified iteratively by the operator."
   ]
  },
  {
   "cell_type": "code",
   "execution_count": null,
   "metadata": {
    "scrolled": true
   },
   "outputs": [],
   "source": [
    "# Results file\n",
    "path_file = r'C:\\...\\trace_samples\\trace_P5-P7.xlsx'\n",
    "# Report file\n",
    "path_report = r'C:\\...\\examples\\Database\\Development\\Projects\\cgb\\cgb\\reports.xlsx'\n",
    "# Signal/Noise filter\n",
    "pre_signal_noise = 10\n",
    "# Relative standard deviation filter(e.g. 15%, 20%)\n",
    "pre_precision = 20\n",
    "# Metabolite focus list\n",
    "pre_list_relevant = []\n",
    "\n",
    "# Labelsize summary\n",
    "pre_labelsize_identification = 12\n",
    "# Figsize summary, identification\n",
    "pre_figsize_identification = (14,6)\n",
    "# Figsize summary, quantification\n",
    "pre_figsize_quantification = (10,6)"
   ]
  },
  {
   "cell_type": "markdown",
   "metadata": {},
   "source": [
    "### Calculation\n",
    "This is the preprocessing function. It's used for initial formatting and preprocessing of result tables:\n",
    "- Intra-batch correction\n",
    "    - Quality control (QC) samples\n",
    "    - Locally weighted regression and cubic spline fit\n",
    "    - Normalization with QC\n",
    "    \n",
    "    \n",
    "- Outlier detection\n",
    "    \n",
    "- Classification:\n",
    "    - Qualitative interpretation and relative quantification\n",
    "    - Inhouse, literature and prediction data used"
   ]
  },
  {
   "cell_type": "code",
   "execution_count": null,
   "metadata": {},
   "outputs": [],
   "source": [
    "inp = scan.scan_preprocessing(\n",
    "    path_file = path_file, \n",
    "    path_report = path_report,\n",
    "    pre_signal_noise = pre_signal_noise, \n",
    "    pre_precision = pre_precision, \n",
    "    pre_list_relevant = pre_list_relevant,\n",
    "    pre_labelsize_identification = pre_labelsize_identification, \n",
    "    pre_figsize_identification = pre_figsize_identification, \n",
    "    pre_figsize_quantification = pre_figsize_quantification\n",
    ")"
   ]
  },
  {
   "cell_type": "markdown",
   "metadata": {},
   "source": [
    "## Univariate analysis\n",
    "### Set parameter\n",
    "This cell is used for operator input. Provide the error of probability for univariate analysis and hypothesis tests (e.g. 0.05). Select, if a internal decision tree is used for automated hypothesis test selection. Based on the experiment design, the samples are either dependent or independent of each other. Additionally, provide one of the correction methods (e.g. FDR, Holm-Bonferroni, Bonferroni) to correct for multi-comparison problems. The fold change is only used for plotting purposes, since the x-fold limit is arbitrary. Plotting parameters can be tested by the operator."
   ]
  },
  {
   "cell_type": "code",
   "execution_count": null,
   "metadata": {},
   "outputs": [],
   "source": [
    "# Probability of error\n",
    "uv_alpha_univariate = 0.05\n",
    "# Use univariate decision tree, else t-test (dependent, independent)\n",
    "uv_decision_tree = False \n",
    "# Dependent (True) or independent (False) samples\n",
    "uv_paired_samples = True \n",
    "# Multi-comparison correction; 'Holm-Bonferroni', 'Bonferroni', 'FDR'\n",
    "uv_correction = 'FDR' \n",
    "\n",
    "# Fold change\n",
    "uv_fold_change = 1\n",
    "# Labelsize vulcanoplot\n",
    "uv_labelsize_vulcano = 12\n",
    "# Figsize vulcanoplot\n",
    "uv_figsize_vulcano = (10,10)\n",
    "# Use full names in vulcanoplot\n",
    "uv_label_full_vulcano = True"
   ]
  },
  {
   "cell_type": "markdown",
   "metadata": {},
   "source": [
    "### Calculation\n",
    "This is the univariate analysis function. It's used to acquire fold changes and to conduct hypothesis tests. A non-parametric Kruskal-Wallis omnibus test for test of center is conducted for further analysis. \n",
    "\n",
    "The selection of the hypothesis test tree provides the following procedures:\n",
    "- Test of normality:\n",
    "    - Shapiro-Wilk\n",
    "\n",
    "\n",
    "- Test of variance:\n",
    "    - Bartlett (normally distributed)\n",
    "    - Levene   (not normally distributed)\n",
    "        \n",
    "    \n",
    "- Test of center:\n",
    "    - t-test independent (normally distributed, equal variance)\n",
    "    - Welch (normally distributed, unequal variances)\n",
    "    - Wilcoxon rank-sum (not normally distributed, unpaired)\n",
    "    - Wilcoxon signed-rank (not normally distributed, paired)"
   ]
  },
  {
   "cell_type": "code",
   "execution_count": null,
   "metadata": {
    "scrolled": true
   },
   "outputs": [],
   "source": [
    "inp = scan.scan_uv(\n",
    "    inp = inp,\n",
    "    uv_alpha_univariate = uv_alpha_univariate, \n",
    "    uv_fold_change = uv_fold_change,\n",
    "    uv_decision_tree = uv_decision_tree, \n",
    "    uv_paired_samples = uv_paired_samples, \n",
    "    uv_correction = uv_correction, \n",
    "    uv_labelsize_vulcano = uv_labelsize_vulcano, \n",
    "    uv_figsize_vulcano = uv_figsize_vulcano, \n",
    "    uv_label_full_vulcano = uv_label_full_vulcano,    \n",
    ")"
   ]
  },
  {
   "cell_type": "markdown",
   "metadata": {},
   "source": [
    "## Multivariate analysis\n",
    "### Set parameter\n",
    "This cell is used for operator input. Provide information for multivariate modelling in form of scaling and cross-validation information.\n",
    "\n",
    "Feature scaling can be provided with the following scaling methods:\n",
    "- Auto scaling (scaling = True, scaling_method = 'auto')\n",
    "- Range scaling (scaling = True, scaling_method = 'range')\n",
    "- Pareto scaling (scaling = True, scaling_method = 'pareto')\n",
    "- Vast scaling (scaling = True, scaling_method = 'vast')\n",
    "- Level scaling (scaling = True, scaling_method = 'level')\n",
    "\n",
    "The following cross validation iterator combinations are possible:\n",
    "- k-fold (cv_iterator = 'kfold', stratified = False, repeated = False)\n",
    "- stratified k-fold (cv_iterator = 'kfold', stratified = True, repeated = False)\n",
    "- repeated k-fold (cv_iterator = 'kfold', stratified = False, repeated = True)\n",
    "- repeated stratified k-fold (cv_iterator = 'kfold', stratified = True, repeated = True)\n",
    "\n",
    "Stratification is most likely necessary for small data sets.\n",
    "\n",
    "Plotting parameters can be tested by the operator."
   ]
  },
  {
   "cell_type": "code",
   "execution_count": null,
   "metadata": {},
   "outputs": [],
   "source": [
    "# Scaling\n",
    "mv_scaling = True\n",
    "# Scaling method\n",
    "mv_scaling_method = 'range'\n",
    "# Cross-validation, iterator\n",
    "mv_cv_iterator = 'kfold'\n",
    "# Cross-validation, stratification\n",
    "mv_cv_stratified = True\n",
    "# Cross-validation, repetition\n",
    "mv_cv_repeated = True\n",
    "# Cross-validation, iterator number\n",
    "mv_cv_kfold = 7\n",
    "# Cross-validation, repetition number\n",
    "mv_cv_repetition = 2\n",
    "\n",
    "# Labelsize plots\n",
    "mv_labelsize_mv = 12\n",
    "# Figsize score plots\n",
    "mv_figsize_score = (6,6)\n",
    "# Figsize scree plots\n",
    "mv_figsize_scree = (6,4)\n",
    "# Figsize vip score plots\n",
    "mv_figsize_vip = (4.5,8)\n",
    "# Use full label in vip score plots\n",
    "mv_label_full_vip = True\n",
    "# Show top vips\n",
    "mv_vip_number = 30"
   ]
  },
  {
   "cell_type": "markdown",
   "metadata": {},
   "source": [
    "### Calculation\n",
    "This is the multivariate analysis function. It provides sample and feature diagnostics for further analysis. \n",
    "\n",
    "The following models are provided:\n",
    "- Principial component analysis (PCA)\n",
    "- Partial least squares discriminant analysis (PLS-DA)\n",
    "\n",
    "The PCA model is used as a unsupervised sample diagnostic for quality control evaluation. The supervised PLS-DA model allows to identify discriminant features under multi-collinearity and acts as a classifier. Hyperparameter optimization is conducted automatically by scree analysis with model validation parameters. Feature diagnostic is provided by beta coefficients and variable importance on projection scores. Confidence intervalls are bootstrapped. Cross-validation is conducted based on operator input. Due to a pipeline approach, data leakage is avoided (e.g. scaling training and test sets before splitting etc.)\n",
    "\n",
    "Model validation is based on goodness-of-fit (R2X, R2Y) and goodness-of-prediction (Q2Y). Further validation procedures consist of receiver-operation-characteristic (ROC, one-vs-all), the area under the curve (AUC) of the ROC (AUROC) and permutation-based hypothesis tests for significance. "
   ]
  },
  {
   "cell_type": "code",
   "execution_count": null,
   "metadata": {
    "scrolled": true
   },
   "outputs": [],
   "source": [
    "inp = scan.scan_mv(\n",
    "    inp, \n",
    "    mv_scaling = mv_scaling, \n",
    "    mv_scaling_method = mv_scaling_method, \n",
    "    mv_cv_iterator = mv_cv_iterator, \n",
    "    mv_cv_stratified = mv_cv_stratified,\n",
    "    mv_cv_repeated = mv_cv_repeated, \n",
    "    mv_cv_kfold = mv_cv_kfold, \n",
    "    mv_cv_repetition = mv_cv_repetition,\n",
    "    mv_labelsize_mv = mv_labelsize_mv, \n",
    "    mv_figsize_score = mv_figsize_score, \n",
    "    mv_figsize_scree = mv_figsize_scree, \n",
    "    mv_figsize_vip = mv_figsize_vip, \n",
    "    mv_label_full_vip = mv_label_full_vip,\n",
    "    mv_vip_number = mv_vip_number\n",
    ")"
   ]
  },
  {
   "cell_type": "markdown",
   "metadata": {},
   "source": [
    "## Cluster analysis\n",
    "### Set parameter\n",
    "This cell is used for operator input. Provide information for unsupervised cluster-analysis in form of univariate and multivariate filter parameters. \n",
    "\n",
    "Plotting parameters can be tested by the operator."
   ]
  },
  {
   "cell_type": "code",
   "execution_count": null,
   "metadata": {},
   "outputs": [],
   "source": [
    "# Use kruskal-wallis filter\n",
    "cluster_threshold_kruskal = True\n",
    "# Use beta-coefficient filter\n",
    "cluster_threshold_beta = True\n",
    "# Use vip filter\n",
    "cluster_threshold_vip = True\n",
    "# Use vip filter for user list\n",
    "cluster_threshold_vip_relevant = False\n",
    "\n",
    "# Clustermap orientation; 'horizontal', 'vertical'\n",
    "cluster_orientation = 'horizontal'\n",
    "# Maximum number of vips to display\n",
    "cluster_vip_top_number = 500\n",
    "# Average cluster map\n",
    "cluster_mean_area = True\n",
    "# Labelsize cluster map\n",
    "cluster_labelsize_cluster = 12\n",
    "# Figsize cluster map\n",
    "cluster_figsize_cluster = (10,4)"
   ]
  },
  {
   "cell_type": "markdown",
   "metadata": {},
   "source": [
    "### Calculation\n",
    "This is the cluster analysis function. It provides sample and feature diagnostics in a unsupervised hierarchical cluster analysis approach."
   ]
  },
  {
   "cell_type": "code",
   "execution_count": null,
   "metadata": {},
   "outputs": [],
   "source": [
    "inp = scan.scan_cluster(\n",
    "    inp, \n",
    "    cluster_threshold_kruskal = cluster_threshold_kruskal, \n",
    "    cluster_threshold_beta = cluster_threshold_beta, \n",
    "    cluster_threshold_vip = cluster_threshold_vip, \n",
    "    cluster_threshold_vip_relevant = cluster_threshold_vip_relevant,\n",
    "    cluster_orientation = cluster_orientation,\n",
    "    cluster_vip_top_number = cluster_vip_top_number, \n",
    "    cluster_mean_area = cluster_mean_area, \n",
    "    cluster_labelsize_cluster = cluster_labelsize_cluster, \n",
    "    cluster_figsize_cluster = cluster_figsize_cluster\n",
    ")"
   ]
  },
  {
   "cell_type": "markdown",
   "metadata": {},
   "source": [
    "## Pathway analysis\n",
    "### Set parameter\n",
    "This cell is used for operator input. Provide a raw path to the corresponding xlsx organism file created with database. For hypothesis testing, provide the propability of error (e.g. 0.05) and multi-comparison correction method. For pathway topology analysis, provide the pathway centrality measure (e.g. betweeness).\n",
    "\n",
    "Plotting parameters can be tested by the operator."
   ]
  },
  {
   "cell_type": "code",
   "execution_count": null,
   "metadata": {},
   "outputs": [],
   "source": [
    "# Organism file\n",
    "path_org = r'C:\\...\\examples\\Database\\Database\\Pathways\\cgb.xlsx'\n",
    "# Probability of error\n",
    "pathway_alpha = 0.05\n",
    "# Multi-comparison correction; 'Holm-Bonferroni', 'Bonferroni', 'FDR'\n",
    "pathway_correction = 'FDR'\n",
    "# Analyte selection; 'univariate', 'multivariate'\n",
    "pathway_selection = 'multivariate'\n",
    "# Topology analysis centrality measure; 'degree', 'betweenness', 'closeness', 'load' or 'harmonic'\n",
    "pathway_measure = 'betweenness' \n",
    "\n",
    "# Labelsize plots\n",
    "pathway_labelsize_pathway = 12\n",
    "# Figsize plots\n",
    "pathway_figsize_pathway = (6,6)\n",
    "# Maximum number of pathways to display\n",
    "pathway_number_pathways_top = 20"
   ]
  },
  {
   "cell_type": "markdown",
   "metadata": {},
   "source": [
    "### Calculation\n",
    "This is the pathway analysis function. The over-representation analysis (ORA) allows to identify significantly changed pathways between conditions. \n",
    "\n",
    "With the metabolite set enrichment analysis (MSEA), additional metabolite areas are provided for pathway significance analysis.\n",
    "\n",
    "Pathway topology analysis extends the ORA by modelling of organism specific pathways in a network approach. The corresponding network metrics work as weights and additional information for pathway significance evaluation."
   ]
  },
  {
   "cell_type": "code",
   "execution_count": null,
   "metadata": {},
   "outputs": [],
   "source": [
    "inp = scan.scan_pathway(\n",
    "    inp,\n",
    "    path_org = path_org,\n",
    "    pathway_alpha = pathway_alpha, \n",
    "    pathway_correction = pathway_correction,\n",
    "    pathway_selection = pathway_selection,\n",
    "    pathway_measure = pathway_measure,\n",
    "    pathway_labelsize_pathway = pathway_labelsize_pathway, \n",
    "    pathway_figsize_pathway = pathway_figsize_pathway, \n",
    "    pathway_number_pathways_top = pathway_number_pathways_top\n",
    ")"
   ]
  },
  {
   "cell_type": "code",
   "execution_count": null,
   "metadata": {},
   "outputs": [],
   "source": []
  }
 ],
 "metadata": {
  "interpreter": {
   "hash": "755afc91d2ac96962a8c02b67b99374e3e8b844f9a2eb493a2ec518073824946"
  },
  "kernelspec": {
   "display_name": "Python 3 (ipykernel)",
   "language": "python",
   "name": "python3"
  },
  "language_info": {
   "codemirror_mode": {
    "name": "ipython",
    "version": 3
   },
   "file_extension": ".py",
   "mimetype": "text/x-python",
   "name": "python",
   "nbconvert_exporter": "python",
   "pygments_lexer": "ipython3",
   "version": "3.9.7"
  }
 },
 "nbformat": 4,
 "nbformat_minor": 4
}
