{
 "cells": [
  {
   "cell_type": "markdown",
   "metadata": {},
   "source": [
    "# Database\n",
    "\n",
    "This is used to acquire the necessary data for large scale mass spectrometry experiments with Dilute-and-Shoot Flow-Injection-Analysis Tandem Mass Spectrometry (DS-FIA-MS/MS).\n",
    "\n",
    "Main functions:\n",
    "- Organism list (KEGG)\n",
    "- Metabolite list (KEGG)\n",
    "- Metabolite Information (PubChem, ChEMBL)\n",
    "- Metabolite classes (KEGG)\n",
    "- Pathway information (KEGG)\n",
    "- MS/MS prediction (CFM-ID)\n",
    "\n",
    "## Import packages"
   ]
  },
  {
   "cell_type": "code",
   "execution_count": null,
   "metadata": {},
   "outputs": [],
   "source": [
    "%load_ext autoreload\n",
    "%autoreload 2\n",
    "\n",
    "import sys\n",
    "sys.path.append('..')\n",
    "\n",
    "from supplementcode import database"
   ]
  },
  {
   "cell_type": "markdown",
   "metadata": {},
   "source": [
    "## Processing\n",
    "\n",
    "### Get list of organisms\n",
    "\n",
    "The KEGG REST API from Biopython allows to access organism identifier. Provide a path to a created results folder."
   ]
  },
  {
   "cell_type": "code",
   "execution_count": null,
   "metadata": {},
   "outputs": [],
   "source": [
    "# Set path for results\n",
    "path_results = r'C:\\...\\examples\\Database\\Database\\Lists'\n",
    "\n",
    "# Get organisms\n",
    "database.database_get_organisms(\n",
    "    path_results = path_results\n",
    ")"
   ]
  },
  {
   "cell_type": "markdown",
   "metadata": {},
   "source": [
    "### Get list of metabolites\n",
    "\n",
    "The KEGG REST API from Biopython allows to access metabolite identifier. Provide a path to a created results folder."
   ]
  },
  {
   "cell_type": "code",
   "execution_count": null,
   "metadata": {
    "scrolled": true
   },
   "outputs": [],
   "source": [
    "# Set path for results\n",
    "path_results = r'C:\\...\\examples\\Database\\Database\\Lists'\n",
    "\n",
    "# Get metabolites\n",
    "database.database_get_metabolites(\n",
    "    path_results = path_results\n",
    ")"
   ]
  },
  {
   "cell_type": "markdown",
   "metadata": {},
   "source": [
    "### Get pKa\n",
    "\n",
    "The PubChem REST API and ChEMBL REST API allows to access metabolite information, e.g. pKa values. Provide a path to your metabolite list from above."
   ]
  },
  {
   "cell_type": "code",
   "execution_count": null,
   "metadata": {},
   "outputs": [],
   "source": [
    "# Set path of metabolite list\n",
    "path_data = r'C:\\...\\examples\\Database\\Database\\Lists\\KEGG_list_compound.xlsx'\n",
    "\n",
    "database.database_get_metabolite_information(\n",
    "    path_data = path_data\n",
    ")"
   ]
  },
  {
   "cell_type": "markdown",
   "metadata": {},
   "source": [
    "### Get metabolite class\n",
    "\n",
    "The KEGG REST API from Biopython allows to access metabolite classification. Provide a path to a results folder."
   ]
  },
  {
   "cell_type": "code",
   "execution_count": null,
   "metadata": {},
   "outputs": [],
   "source": [
    "path_results = r'C:\\...\\examples\\Database\\Database\\Lists'\n",
    "database.database_get_metabolite_class(\n",
    "    path_results = path_results\n",
    ")"
   ]
  },
  {
   "cell_type": "markdown",
   "metadata": {},
   "source": [
    "### Get list of pathways and pathway information\n",
    "\n",
    "The KEGG REST API from Biopython allows to access pathway information for a given organism. Provide a path to a created results folder. In addition, provide one or multiple comma separated organism identifier from the KEGG organism list created previously."
   ]
  },
  {
   "cell_type": "code",
   "execution_count": null,
   "metadata": {
    "scrolled": true
   },
   "outputs": [],
   "source": [
    "# Set path to KEGG_list_organisms.xlsx\n",
    "path_results = r'C:\\...\\examples\\Database\\Database\\Pathways'\n",
    "\n",
    "# Set organisms in list\n",
    "# 'reference' for all pathways\n",
    "list_organisms = [\n",
    "    'sce'\n",
    "]\n",
    "\n",
    "database.database_get_pathway_information(\n",
    "    path_results = path_results, \n",
    "    list_organisms = list_organisms\n",
    ")"
   ]
  },
  {
   "cell_type": "markdown",
   "metadata": {},
   "source": [
    "### Predict all metabolites (offline)\n",
    "\n",
    "Predict MS/MS spectra for mass transition selection. The provided workflow in this chapter works with the source code from in https://sourceforge.net/projects/cfm-id/ (accessed 2021-08-21). Installation procedures for windows binaries are descriped in the wiki for cfm-id. The necessary software LPSolve IDE 5.5.2.0 can be downloaded from https://sourceforge.net/projects/lpsolve/ (accessed 2021-08-21). The compatible binaries are also provided in the examples/database folder.<br><br>For this algorithm, you need to provide a raw path to the previously created xlsx pKa list, a created results folder for the output files and the previously created pathway file of an organism. Additionally, provide a raw path to the prediction exe from cfm-id, as well as the paths to the positive and negative parameter and configuration files.<br><br>The specific path to an organism is implemented due to time reasons. If you change the organism, new metabolite fragment spectra are added to the folder. In case of problematic setups due to version compatibility of LPSolve and the binaries, a web-scaper tool is provided below. The workflow with the binaries is still way faster and independent of server accessability and stability."
   ]
  },
  {
   "cell_type": "code",
   "execution_count": null,
   "metadata": {
    "scrolled": true
   },
   "outputs": [],
   "source": [
    "# Set pathway to KEGG_List_Metabolites.xlsx\n",
    "path_metabolite_list = r'C:\\...\\examples\\Database\\Database\\Lists\\KEGG_list_pKa.xlsx'\n",
    "path_results = r'C:\\...\\examples\\Database\\Database\\Predictions\\SMILES'\n",
    "path_organism = r'C:\\...\\examples\\Database\\Database\\Pathways\\cgb.xlsx'\n",
    "\n",
    "# Executable\n",
    "path_exe_predict = r'C:\\...\\examples\\Database\\Database\\Predictions\\CFM-ID\\01_exe\\cfm-predict.exe'\n",
    "\n",
    "# Positive MSMS\n",
    "path_file_parameter_pos = r'C:\\...\\examples\\Database\\Database\\Predictions\\CFM-ID\\02_positive\\param_output0.log'\n",
    "path_file_config_pos = r'C:\\...\\examples\\Database\\Database\\Predictions\\CFM-ID\\02_positive\\param_config.txt'\n",
    "\n",
    "# Negative MSMS\n",
    "path_file_parameter_neg = r'C:\\...\\examples\\Database\\Database\\Predictions\\CFM-ID\\03_negative\\param_output0.log'\n",
    "path_file_config_neg = r'C:\\...\\examples\\Database\\Database\\Predictions\\CFM-ID\\03_negative\\param_config.txt'\n",
    "\n",
    "database.database_predict_fragmentation_offline(\n",
    "    path_metabolite_list = path_metabolite_list, \n",
    "    path_results = path_results, \n",
    "    path_organism = path_organism,\n",
    "    path_exe_predict = path_exe_predict,\n",
    "    path_file_parameter_pos = path_file_parameter_pos, \n",
    "    path_file_parameter_neg = path_file_parameter_neg,\n",
    "    path_file_config_pos = path_file_config_pos, \n",
    "    path_file_config_neg = path_file_config_neg,\n",
    "    structure_key = 'smiles',\n",
    "    modes = ['Pos','Neg'],\n",
    ")"
   ]
  },
  {
   "cell_type": "markdown",
   "metadata": {},
   "source": [
    "### Predict all metabolites (online)\n",
    "\n",
    "The setup of the prediction tool in windows can be tedious due to specific LPSolve and binary dependencies. This web-scraper works similar to the offline workflow above. The web-server https://cfmid.wishartlab.com/ (accessed 2021-08-27) can be accessed with requests and selenium.<br><br>In addition to the raw paths to the metabolite list, results folder for MS/MS spectra and organism pathway file, please add a raw path to a chrome driver from https://sites.google.com/a/chromium.org/chromedriver/downloads (accessed 2021-08-27). The chrome driver version needs to be identical to your chrome browser version."
   ]
  },
  {
   "cell_type": "code",
   "execution_count": null,
   "metadata": {
    "scrolled": true
   },
   "outputs": [],
   "source": [
    "path_metabolite_list = r'C:\\...\\examples\\Database\\Database\\Lists\\KEGG_list_pKa.xlsx'\n",
    "path_results = r'C:\\...\\examples\\Database\\Database\\Predictions\\SMILES'\n",
    "path_organism = r'C:\\...\\examples\\Database\\Database\\Pathways\\cgb.xlsx'\n",
    "path_driver = r'C:\\...\\examples\\Database\\Database\\Predictions\\CFM-ID\\04_chrome\\chromedriver.exe'\n",
    "url = 'http://cfmid3.wishartlab.com/predict'\n",
    "\n",
    "database.database_predict_fragmentation_online(\n",
    "    path_metabolite_list = path_metabolite_list, \n",
    "    path_results = path_results, \n",
    "    path_organism = path_organism, \n",
    "    path_driver = path_driver, \n",
    "    url = url, \n",
    "    structure_key = 'smiles',\n",
    "    modes = ['Pos','Neg'],\n",
    ")"
   ]
  }
 ],
 "metadata": {
  "kernelspec": {
   "display_name": "Python 3 (ipykernel)",
   "language": "python",
   "name": "python3"
  },
  "language_info": {
   "codemirror_mode": {
    "name": "ipython",
    "version": 3
   },
   "file_extension": ".py",
   "mimetype": "text/x-python",
   "name": "python",
   "nbconvert_exporter": "python",
   "pygments_lexer": "ipython3",
   "version": "3.9.7"
  }
 },
 "nbformat": 4,
 "nbformat_minor": 4
}
